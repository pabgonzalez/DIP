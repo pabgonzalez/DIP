{
 "cells": [
  {
   "cell_type": "markdown",
   "metadata": {},
   "source": [
    "# Guía 2 - Grupo 2\n",
    "## Matías Bergerman, Pablo González Leiro, Tobias Demeco, Matías Tripoli"
   ]
  },
  {
   "cell_type": "code",
   "execution_count": 1,
   "metadata": {},
   "outputs": [],
   "source": [
    "#Codigo en general para todos los ej (imports y eso)"
   ]
  },
  {
   "cell_type": "markdown",
   "metadata": {},
   "source": [
    "## ex1.m\n",
    "(Portar ex1.m a Python y explicar como funciona)"
   ]
  },
  {
   "cell_type": "code",
   "execution_count": 2,
   "metadata": {},
   "outputs": [],
   "source": [
    "#Codigo para ex1.m"
   ]
  },
  {
   "cell_type": "markdown",
   "metadata": {},
   "source": [
    "## ex2.m\n",
    "(Portar ex2.m a Python y explicar como funciona)"
   ]
  },
  {
   "cell_type": "code",
   "execution_count": 3,
   "metadata": {},
   "outputs": [],
   "source": [
    "#Codigo para ex2.m"
   ]
  },
  {
   "cell_type": "markdown",
   "metadata": {},
   "source": [
    "## spect.m\n",
    "(Portar spect.m a Python y explicar como funciona)"
   ]
  },
  {
   "cell_type": "markdown",
   "metadata": {},
   "source": [
    "[Script en Python](spect/spect.py)\n",
    "\n",
    "Generamos la siguiente imagen:\n",
    "\n",
    "![Imagen](spect/imagen.svg)\n",
    "\n",
    "A partir de ella calculamos su espectro mediante la transformada rápida de Fourier (FFT) en 2 dimensiones. Como se puede apreciar en la segunda imagen, aplicando el logaritmo logramos reducir el rango dinámico de los valores a graficar y, en consecuencia, podemos apreciar las variaciones en el espectro con mayor claridad visual. \n",
    "\n",
    "![Espectros](spect/espectros.svg)"
   ]
  },
  {
   "cell_type": "markdown",
   "metadata": {},
   "source": [
    "## myallias.m\n",
    "(Portar myallias.m a Python y explicar como funciona)"
   ]
  },
  {
   "cell_type": "code",
   "execution_count": 5,
   "metadata": {},
   "outputs": [],
   "source": [
    "#Codigo para myallias.m"
   ]
  },
  {
   "cell_type": "markdown",
   "metadata": {},
   "source": [
    "## viasampling.m (upsampling/downsampling.m)\n",
    "(Portar viasampling.m a Python y explicar como funciona, tambien hay que portar y explicar upsampling.m y downsampling.m en esta sección)"
   ]
  },
  {
   "cell_type": "code",
   "execution_count": 6,
   "metadata": {},
   "outputs": [],
   "source": [
    "#Codigo para downsampling.m y upsampling.m"
   ]
  },
  {
   "cell_type": "code",
   "execution_count": 7,
   "metadata": {},
   "outputs": [],
   "source": [
    "#Codigo para viasampling.m"
   ]
  },
  {
   "cell_type": "markdown",
   "metadata": {},
   "source": [
    "## interpol.m y alliasorg.m?\n",
    "(Estas dos no las mencionó Dani pero dijo que habia que portar todo, asi que asumo que hay que portarlas y explicarlas tambien)"
   ]
  },
  {
   "cell_type": "code",
   "execution_count": 8,
   "metadata": {},
   "outputs": [],
   "source": [
    "#Codigo para interpol.m"
   ]
  },
  {
   "cell_type": "code",
   "execution_count": 9,
   "metadata": {},
   "outputs": [],
   "source": [
    "#Codigo para alliasorg.m"
   ]
  },
  {
   "cell_type": "markdown",
   "metadata": {},
   "source": [
    "## image_aliasing_new.m\n",
    "(La mas heavy, pero si estan las otras sale)"
   ]
  },
  {
   "cell_type": "code",
   "execution_count": 10,
   "metadata": {},
   "outputs": [],
   "source": [
    "#Codigo para image_aliasing_new.m"
   ]
  }
 ],
 "metadata": {
  "kernelspec": {
   "display_name": "Python 3.10.5 64-bit",
   "language": "python",
   "name": "python3"
  },
  "language_info": {
   "codemirror_mode": {
    "name": "ipython",
    "version": 3
   },
   "file_extension": ".py",
   "mimetype": "text/x-python",
   "name": "python",
   "nbconvert_exporter": "python",
   "pygments_lexer": "ipython3",
   "version": "3.10.0"
  },
  "orig_nbformat": 4,
  "vscode": {
   "interpreter": {
    "hash": "369f2c481f4da34e4445cda3fffd2e751bd1c4d706f27375911949ba6bb62e1c"
   }
  }
 },
 "nbformat": 4,
 "nbformat_minor": 2
}
