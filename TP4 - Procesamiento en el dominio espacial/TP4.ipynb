{
 "cells": [
  {
   "cell_type": "markdown",
   "metadata": {},
   "source": [
    "# Trabajo Práctico 4 - Grupo 2\n",
    "## Matías Bergerman, Pablo González Leiro, Tobias Demeco, Matías Tripoli"
   ]
  }
 ],
 "metadata": {
  "kernelspec": {
   "display_name": "Python 3.8.10 64-bit",
   "language": "python",
   "name": "python3"
  },
  "language_info": {
   "name": "python",
   "version": "3.8.10"
  },
  "orig_nbformat": 4,
  "vscode": {
   "interpreter": {
    "hash": "d768ee361c4c2563aed317a4ca951a3dc04f4b35f8b65dca5191f8bb6ce10429"
   }
  }
 },
 "nbformat": 4,
 "nbformat_minor": 2
}
